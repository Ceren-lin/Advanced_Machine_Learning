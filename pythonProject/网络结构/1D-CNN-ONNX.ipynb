{
 "cells": [
  {
   "cell_type": "code",
   "execution_count": null,
   "id": "initial_id",
   "metadata": {
    "collapsed": true
   },
   "outputs": [],
   "source": []
  },
  {
   "cell_type": "code",
   "outputs": [],
   "source": [
    "import torch\n",
    "import torch.nn as nn\n",
    "import torch.nn.functional as F\n",
    "from torch.autograd import Variable\n",
    "\n",
    "class CNN1D(nn.Module):\n",
    "    def __init__(self, num_classes):\n",
    "        super(CNN1D, self).__init__()\n",
    "        self.conv1 = nn.Conv1d(in_channels=1, out_channels=16, kernel_size=3, stride=1, padding=1)\n",
    "        self.pool = nn.MaxPool1d(kernel_size=2, stride=2, padding=0)\n",
    "        self.conv2 = nn.Conv1d(in_channels=16, out_channels=32, kernel_size=3, stride=1, padding=1)\n",
    "        self.fc1 = nn.Linear(32 * 15, 120)  # This needs to be adjusted based on your input size\n",
    "        self.fc2 = nn.Linear(120, num_classes)\n",
    "\n",
    "    def forward(self, x):\n",
    "        x = x.unsqueeze(1)  # Adding a channel dimension\n",
    "        x = F.relu(self.conv1(x))\n",
    "        x = self.pool(x)\n",
    "        x = F.relu(self.conv2(x))\n",
    "        x = self.pool(x)\n",
    "        x = x.view(x.size(0), -1)  # Flatten\n",
    "        x = F.relu(self.fc1(x))\n",
    "        x = self.fc2(x)\n",
    "        return x\n",
    "\n",
    "# Assuming your input length is 63\n",
    "seq_length = 63\n",
    "num_classes = 13  # Change this to your actual number of classes\n",
    "model = CNN1D(num_classes=num_classes)\n",
    "\n",
    "# Dummy input corresponding to one sequence\n",
    "# The input size should be (batch_size, seq_length), here batch_size is 1\n",
    "dummy_input = Variable(torch.randn(1, seq_length))\n",
    "\n",
    "# Set the model to evaluation mode\n",
    "model.eval()\n",
    "\n",
    "# Export the model\n",
    "torch.onnx.export(model,                 # model being run\n",
    "                  dummy_input,           # model input (or a tuple for multiple inputs)\n",
    "                  \"cnn1d_model.onnx\",    # where to save the model\n",
    "                  export_params=True,    # store the trained parameter weights inside the model file\n",
    "                  opset_version=10,      # the ONNX version to export the model to\n",
    "                  do_constant_folding=True,  # whether to execute constant folding for optimization\n",
    "                  input_names=['input'],    # the model's input names\n",
    "                  output_names=['output'],  # the model's output names\n",
    "                  dynamic_axes={'input' : {0 : 'batch_size'},    # variable length axes\n",
    "                                'output' : {0 : 'batch_size'}})"
   ],
   "metadata": {
    "collapsed": false,
    "ExecuteTime": {
     "end_time": "2024-03-26T07:56:32.908271600Z",
     "start_time": "2024-03-26T07:56:32.879351800Z"
    }
   },
   "id": "e0ec7ffb669fc3b7",
   "execution_count": 2
  },
  {
   "cell_type": "code",
   "outputs": [
    {
     "name": "stdout",
     "output_type": "stream",
     "text": [
      "[array([[-0.13178971, -0.03653295,  0.008347  ,  0.0379477 ,  0.0635919 ,\n",
      "        -0.09029373,  0.02039379,  0.07009204, -0.01618053,  0.03866152,\n",
      "         0.09614401,  0.02165812, -0.04923753]], dtype=float32)]\n"
     ]
    }
   ],
   "source": [
    "import onnxruntime as ort\n",
    "\n",
    "# Load the ONNX model using ONNX Runtime\n",
    "ort_session = ort.InferenceSession(\"cnn1d_model.onnx\")\n",
    "\n",
    "# Prepare the input data as a dictionary\n",
    "inputs = {ort_session.get_inputs()[0].name: dummy_input.numpy()}\n",
    "\n",
    "# Run inference\n",
    "outputs = ort_session.run(None, inputs)\n",
    "\n",
    "# Print the output to verify\n",
    "print(outputs)"
   ],
   "metadata": {
    "collapsed": false,
    "ExecuteTime": {
     "end_time": "2024-03-26T08:01:31.539780500Z",
     "start_time": "2024-03-26T08:01:31.494593700Z"
    }
   },
   "id": "b6d57a1a7c6b31a7",
   "execution_count": 3
  },
  {
   "cell_type": "code",
   "outputs": [],
   "source": [],
   "metadata": {
    "collapsed": false
   },
   "id": "397ef3ca670ac780"
  }
 ],
 "metadata": {
  "kernelspec": {
   "display_name": "Python 3",
   "language": "python",
   "name": "python3"
  },
  "language_info": {
   "codemirror_mode": {
    "name": "ipython",
    "version": 2
   },
   "file_extension": ".py",
   "mimetype": "text/x-python",
   "name": "python",
   "nbconvert_exporter": "python",
   "pygments_lexer": "ipython2",
   "version": "2.7.6"
  }
 },
 "nbformat": 4,
 "nbformat_minor": 5
}
