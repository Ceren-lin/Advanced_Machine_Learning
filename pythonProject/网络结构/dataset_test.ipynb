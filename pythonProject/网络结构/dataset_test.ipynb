{
 "cells": [
  {
   "cell_type": "code",
   "execution_count": 9,
   "id": "initial_id",
   "metadata": {
    "ExecuteTime": {
     "end_time": "2024-03-02T09:13:25.679806800Z",
     "start_time": "2024-03-02T09:13:25.673194900Z"
    },
    "collapsed": true
   },
   "outputs": [],
   "source": [
    "from dataset import CustomDataset\n",
    "from torch.utils.data import DataLoader\n",
    "import matplotlib.pyplot as plt\n",
    "\n"
   ]
  },
  {
   "cell_type": "code",
   "execution_count": null,
   "id": "ca1eeb968da5f2be",
   "metadata": {
    "ExecuteTime": {
     "end_time": "2024-03-02T09:13:30.093490600Z",
     "start_time": "2024-03-02T09:13:25.959132900Z"
    },
    "collapsed": false
   },
   "outputs": [
    {
     "ename": "ValueError",
     "evalue": "setting an array element with a sequence. The requested array has an inhomogeneous shape after 2 dimensions. The detected shape was (2400, 1) + inhomogeneous part.",
     "output_type": "error",
     "traceback": [
      "\u001b[1;31m---------------------------------------------------------------------------\u001b[0m",
      "\u001b[1;31mValueError\u001b[0m                                Traceback (most recent call last)",
      "Cell \u001b[1;32mIn[10], line 2\u001b[0m\n\u001b[0;32m      1\u001b[0m root_dir \u001b[38;5;241m=\u001b[39m \u001b[38;5;124m\"\u001b[39m\u001b[38;5;124mE://毕设//电路仿真//仿真结果//sallen_key//小波包分解1\u001b[39m\u001b[38;5;124m\"\u001b[39m  \u001b[38;5;66;03m# 请确保路径正确\u001b[39;00m\n\u001b[1;32m----> 2\u001b[0m dataset \u001b[38;5;241m=\u001b[39m CustomDataset(root_dir\u001b[38;5;241m=\u001b[39mroot_dir)\n\u001b[0;32m      4\u001b[0m \u001b[38;5;66;03m# 简单验证数据集\u001b[39;00m\n\u001b[0;32m      5\u001b[0m \u001b[38;5;28mprint\u001b[39m(\u001b[38;5;124mf\u001b[39m\u001b[38;5;124m\"\u001b[39m\u001b[38;5;124mTotal samples: \u001b[39m\u001b[38;5;132;01m{\u001b[39;00m\u001b[38;5;28mlen\u001b[39m(dataset)\u001b[38;5;132;01m}\u001b[39;00m\u001b[38;5;124m\"\u001b[39m)\n",
      "File \u001b[1;32mE:\\Code\\Fault_Diagnoise\\pythonProject\\dataset.py:25\u001b[0m, in \u001b[0;36mCustomDataset.__init__\u001b[1;34m(self, root_dir)\u001b[0m\n\u001b[0;32m     23\u001b[0m         \u001b[38;5;28mself\u001b[39m\u001b[38;5;241m.\u001b[39mdata\u001b[38;5;241m.\u001b[39mappend(features)\n\u001b[0;32m     24\u001b[0m         \u001b[38;5;28mself\u001b[39m\u001b[38;5;241m.\u001b[39mlabels\u001b[38;5;241m.\u001b[39mappend(index)  \u001b[38;5;66;03m# 类别标签为类别的索引\u001b[39;00m\n\u001b[1;32m---> 25\u001b[0m \u001b[38;5;28mself\u001b[39m\u001b[38;5;241m.\u001b[39mdata \u001b[38;5;241m=\u001b[39m np\u001b[38;5;241m.\u001b[39marray(\u001b[38;5;28mself\u001b[39m\u001b[38;5;241m.\u001b[39mdata)\n\u001b[0;32m     26\u001b[0m \u001b[38;5;28mself\u001b[39m\u001b[38;5;241m.\u001b[39mlabels \u001b[38;5;241m=\u001b[39m np\u001b[38;5;241m.\u001b[39marray(\u001b[38;5;28mself\u001b[39m\u001b[38;5;241m.\u001b[39mlabels)\n\u001b[0;32m     28\u001b[0m \u001b[38;5;66;03m# 标准化数据\u001b[39;00m\n",
      "\u001b[1;31mValueError\u001b[0m: setting an array element with a sequence. The requested array has an inhomogeneous shape after 2 dimensions. The detected shape was (2400, 1) + inhomogeneous part."
     ]
    }
   ],
   "source": [
    "root_dir = \"./仿真结果//sallen_key//小波包分解1\"  # 请确保路径正确\n",
    "dataset = CustomDataset(root_dir=root_dir)\n",
    "\n",
    "# 简单验证数据集\n",
    "print(f\"Total samples: {len(dataset)}\")\n",
    "sample, label = dataset[0]\n",
    "print(f\"Sample shape: {sample.shape}, Label: {label}\")\n",
    "\n",
    "# 创建DataLoader\n",
    "dataloader = DataLoader(dataset, batch_size=10, shuffle=True)\n",
    "for samples, labels in dataloader:\n",
    "    print(f\"Batch samples shape: {samples.shape}, Batch labels shape: {labels.shape}\")\n",
    "    break"
   ]
  },
  {
   "cell_type": "code",
   "execution_count": null,
   "id": "698b0b61a86132fe",
   "metadata": {
    "collapsed": false
   },
   "outputs": [],
   "source": [
    "# 遍历数据加载器，打印出第一个批次的部分数据\n",
    "for features, labels in dataloader:\n",
    "    print(\"特征（部分）：\", features[0].numpy())  # 打印第一个样本的特征\n",
    "    print(\"标签：\", labels[0].item())  # 打印第一个样本的标签\n",
    "    \n",
    "    # 可选：可视化第一个样本的特征（如果适用）\n",
    "    plt.figure(figsize=(10, 2))\n",
    "    plt.plot(features[0].numpy())\n",
    "    plt.title(f\"Label: {labels[0].item()}\")\n",
    "    plt.show()\n",
    "    \n",
    "    break  # 只展示第一个批次的数据，所以使用break退出循环"
   ]
  }
 ],
 "metadata": {
  "kernelspec": {
   "display_name": "Python 3",
   "language": "python",
   "name": "python3"
  },
  "language_info": {
   "codemirror_mode": {
    "name": "ipython",
    "version": 2
   },
   "file_extension": ".py",
   "mimetype": "text/x-python",
   "name": "python",
   "nbconvert_exporter": "python",
   "pygments_lexer": "ipython2",
   "version": "2.7.6"
  }
 },
 "nbformat": 4,
 "nbformat_minor": 5
}
