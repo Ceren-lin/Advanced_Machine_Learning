{
 "cells": [
  {
   "cell_type": "code",
   "outputs": [],
   "source": [
    "import pywt\n",
    "import pandas as pd\n",
    "import numpy as np\n",
    "import os\n",
    "import glob"
   ],
   "metadata": {
    "collapsed": false,
    "ExecuteTime": {
     "end_time": "2024-03-18T13:44:34.261470200Z",
     "start_time": "2024-03-18T13:44:34.237353700Z"
    }
   },
   "id": "21494adcea6f24c9",
   "execution_count": 1
  },
  {
   "cell_type": "markdown",
   "source": [],
   "metadata": {
    "collapsed": false
   },
   "id": "56be3e18c76a747d"
  },
  {
   "cell_type": "code",
   "execution_count": 44,
   "id": "initial_id",
   "metadata": {
    "collapsed": true,
    "ExecuteTime": {
     "end_time": "2024-03-03T08:19:08.130332500Z",
     "start_time": "2024-03-03T08:19:07.881136100Z"
    }
   },
   "outputs": [
    {
     "name": "stdout",
     "output_type": "stream",
     "text": [
      "数据已成功保存到指定文件中。\n"
     ]
    }
   ],
   "source": [
    "# 将从OrCAD Pspice文件中读出来的数据整理后存储\n",
    "\n",
    "# 加载CSV文件\n",
    "file_path = \"C://Users\\Ceren\\Desktop//test_12.csv\"  # 请替换'你的文件路径'为实际的文件路径\n",
    "df = pd.read_csv(file_path)\n",
    "\n",
    "# 去除列名的前后空格\n",
    "df.columns = df.columns.str.strip()\n",
    "\n",
    "# 定义保存新文件的基础路径\n",
    "base_file_path = 'E:\\毕设\\电路仿真\\仿真结果//four_op_amp\\原始数据文件//R6+/12_'  # 请替换'你的保存路径'为实际希望保存文件的路径\n",
    "\n",
    "ii=0\n",
    "\n",
    "# 遍历除了'Time'列之外的所有列，并将数据保存到新文件中\n",
    "for column in df.columns[1:]:  # 跳过'Time'列\n",
    "    # 定义当前列的新文件路径\n",
    "    new_file_path = f'{base_file_path}{ii}.csv'\n",
    "    ii=ii+1\n",
    "    # 提取当前列以及'Time'列的数据\n",
    "    data_to_save = df[['Time', column]].copy()\n",
    "    \n",
    "    # 将数据保存到CSV文件\n",
    "    data_to_save.to_csv(new_file_path, index=False)\n",
    "\n",
    "print(\"数据已成功保存到指定文件中。\")"
   ]
  },
  {
   "cell_type": "code",
   "outputs": [
    {
     "name": "stdout",
     "output_type": "stream",
     "text": [
      "数据处理完成\n"
     ]
    }
   ],
   "source": [
    "\n",
    "\n",
    "def process_and_save_features(file_path, output_dir, wavelet='db2', max_level=None):\n",
    "    # 读取数据，跳过第一行（列名）\n",
    "    df = pd.read_csv(file_path, header=None, skiprows=1)\n",
    "    \n",
    "    # 将第二列转换为浮点数，用作信号\n",
    "    signal = df.iloc[:, 1].astype(float).values\n",
    "    \n",
    "    # 执行小波包分析\n",
    "    wp = pywt.WaveletPacket(data=signal, wavelet=wavelet, mode='symmetric', maxlevel=max_level)\n",
    "    \n",
    "    # 提取特征：这里我们简单地使用每个节点的能量作为特征\n",
    "    features = {node.path: np.sum(node.data**2) for node in wp.get_level(max_level or wp.maxlevel, 'freq')}\n",
    "    \n",
    "    # 将特征保存到DataFrame中\n",
    "    features_df = pd.DataFrame([features])\n",
    "    \n",
    "    # 确保输出目录存在\n",
    "    if not os.path.exists(output_dir):\n",
    "        os.makedirs(output_dir)\n",
    "    \n",
    "    # 构建输出文件路径\n",
    "    output_file_path = os.path.join(output_dir, os.path.basename(file_path).replace('.csv', '_features.csv'))\n",
    "    \n",
    "    # 将特征保存到CSV文件中\n",
    "    features_df.to_csv(output_file_path, index=False)\n",
    "\n",
    "def process_all_files_in_directory(directory_path, output_dir, wavelet='db2', max_level=None):\n",
    "    # 构建目录路径中所有CSV文件的搜索模式\n",
    "    search_pattern = os.path.join(directory_path, \"*.csv\")\n",
    "    \n",
    "    # 使用glob找到所有匹配的文件\n",
    "    csv_files = glob.glob(search_pattern)\n",
    "    \n",
    "    # 遍历所有找到的CSV文件\n",
    "    for file_path in csv_files:\n",
    "        # 对每个文件执行小波包分析并保存特征\n",
    "        process_and_save_features(file_path, output_dir, wavelet, max_level)\n",
    "\n",
    "# 设置源文件目录和目标目录路径\n",
    "directory_path = \"E:/毕设/电路仿真/仿真结果/four_op_amp/原始数据文件/R6+/\"  # 源文件目录路径\n",
    "output_dir = \"E:/毕设/电路仿真/仿真结果/four_op_amp/小波包分解2/R6+/\"  # 输出目录路径\n",
    "\n",
    "# 处理目录下的所有文件\n",
    "process_all_files_in_directory(directory_path, output_dir)\n",
    "\n",
    "print('数据处理完成')"
   ],
   "metadata": {
    "collapsed": false,
    "ExecuteTime": {
     "end_time": "2024-03-03T08:59:10.946154700Z",
     "start_time": "2024-03-03T08:59:10.474406100Z"
    }
   },
   "id": "20604215991101e4",
   "execution_count": 70
  },
  {
   "cell_type": "code",
   "outputs": [
    {
     "name": "stdout",
     "output_type": "stream",
     "text": [
      "数据处理完成\n"
     ]
    }
   ],
   "source": [
    "import os\n",
    "import glob\n",
    "import pandas as pd\n",
    "import pywt\n",
    "import numpy as np\n",
    "\n",
    "def process_and_save_features(file_path, output_dir, wavelet='db2', max_level=None):\n",
    "    # 读取数据，跳过第一行（列名）\n",
    "    df = pd.read_csv(file_path, header=None, skiprows=1)\n",
    "    \n",
    "    # 将第二列转换为浮点数，用作信号\n",
    "    signal = df.iloc[:, 1].astype(float).values\n",
    "    \n",
    "    # 执行小波包分析\n",
    "    wp = pywt.WaveletPacket(data=signal, wavelet=wavelet, mode='symmetric', maxlevel=max_level)\n",
    "    \n",
    "    # 提取特征：这里我们简单地使用每个节点的能量作为特征\n",
    "    features = {node.path: np.sum(node.data**2) for node in wp.get_level(max_level or wp.maxlevel, 'freq')}\n",
    "    \n",
    "    # 将特征保存到DataFrame中\n",
    "    features_df = pd.DataFrame([features])\n",
    "    \n",
    "    # 确保输出目录存在\n",
    "    os.makedirs(output_dir, exist_ok=True)\n",
    "    \n",
    "    # 构建输出文件路径\n",
    "    output_file_path = os.path.join(output_dir, os.path.basename(file_path).replace('.csv', '_features.csv'))\n",
    "    \n",
    "    # 将特征保存到CSV文件中\n",
    "    features_df.to_csv(output_file_path, index=False)\n",
    "\n",
    "def process_directory_recursively(source_directory, output_base_dir, wavelet='db2', max_level=None):\n",
    "    for root, dirs, files in os.walk(source_directory):\n",
    "        for dir_name in dirs:\n",
    "            if dir_name == \"all_data\":\n",
    "                continue\n",
    "            \n",
    "            source_sub_dir = os.path.join(root, dir_name)\n",
    "            output_sub_dir = source_sub_dir.replace(source_directory, output_base_dir, 1)\n",
    "            \n",
    "            # 处理当前目录下的所有CSV文件\n",
    "            process_all_files_in_directory(source_sub_dir, output_sub_dir, wavelet, max_level)\n",
    "\n",
    "def process_all_files_in_directory(directory_path, output_dir, wavelet='db2', max_level=None):\n",
    "    search_pattern = os.path.join(directory_path, \"*.csv\")\n",
    "    csv_files = glob.glob(search_pattern)\n",
    "    for file_path in csv_files:\n",
    "        process_and_save_features(file_path, output_dir, wavelet, max_level)\n",
    "\n",
    "# 设置源文件目录和目标目录的基路径\n",
    "source_directory = \"E:/毕设/电路仿真/仿真结果/four_op_amp/原始数据文件\"  # 源文件基目录路径\n",
    "output_base_dir = \"E:/毕设/电路仿真/仿真结果/four_op_amp/小波包分解12\"  # 输出基目录路径  8\n",
    "\n",
    "# 处理源目录下的所有文件夹（除了 all_data）\n",
    "process_directory_recursively(source_directory, output_base_dir,wavelet='sym3')\n",
    "\n",
    "print('数据处理完成')\n"
   ],
   "metadata": {
    "collapsed": false,
    "ExecuteTime": {
     "end_time": "2024-03-26T03:42:10.682954600Z",
     "start_time": "2024-03-26T03:42:05.191266500Z"
    }
   },
   "id": "a0ad5ec8a11ddd26",
   "execution_count": 13
  },
  {
   "cell_type": "code",
   "outputs": [
    {
     "name": "stdout",
     "output_type": "stream",
     "text": [
      "Discrete Wavelets: ['bior1.1', 'bior1.3', 'bior1.5', 'bior2.2', 'bior2.4', 'bior2.6', 'bior2.8', 'bior3.1', 'bior3.3', 'bior3.5', 'bior3.7', 'bior3.9', 'bior4.4', 'bior5.5', 'bior6.8', 'coif1', 'coif2', 'coif3', 'coif4', 'coif5', 'coif6', 'coif7', 'coif8', 'coif9', 'coif10', 'coif11', 'coif12', 'coif13', 'coif14', 'coif15', 'coif16', 'coif17', 'db1', 'db2', 'db3', 'db4', 'db5', 'db6', 'db7', 'db8', 'db9', 'db10', 'db11', 'db12', 'db13', 'db14', 'db15', 'db16', 'db17', 'db18', 'db19', 'db20', 'db21', 'db22', 'db23', 'db24', 'db25', 'db26', 'db27', 'db28', 'db29', 'db30', 'db31', 'db32', 'db33', 'db34', 'db35', 'db36', 'db37', 'db38', 'dmey', 'haar', 'rbio1.1', 'rbio1.3', 'rbio1.5', 'rbio2.2', 'rbio2.4', 'rbio2.6', 'rbio2.8', 'rbio3.1', 'rbio3.3', 'rbio3.5', 'rbio3.7', 'rbio3.9', 'rbio4.4', 'rbio5.5', 'rbio6.8', 'sym2', 'sym3', 'sym4', 'sym5', 'sym6', 'sym7', 'sym8', 'sym9', 'sym10', 'sym11', 'sym12', 'sym13', 'sym14', 'sym15', 'sym16', 'sym17', 'sym18', 'sym19', 'sym20']\n",
      "Continuous Wavelets: ['cgau1', 'cgau2', 'cgau3', 'cgau4', 'cgau5', 'cgau6', 'cgau7', 'cgau8', 'cmor', 'fbsp', 'gaus1', 'gaus2', 'gaus3', 'gaus4', 'gaus5', 'gaus6', 'gaus7', 'gaus8', 'mexh', 'morl', 'shan']\n"
     ]
    }
   ],
   "source": [
    "import pywt\n",
    "\n",
    "# 打印所有离散小波名称\n",
    "print(\"Discrete Wavelets:\", pywt.wavelist(kind='discrete'))\n",
    "\n",
    "# 打印所有连续小波名称\n",
    "print(\"Continuous Wavelets:\", pywt.wavelist(kind='continuous'))"
   ],
   "metadata": {
    "collapsed": false,
    "ExecuteTime": {
     "end_time": "2024-03-26T03:32:27.111070500Z",
     "start_time": "2024-03-26T03:32:27.105556900Z"
    }
   },
   "id": "95a09eb7201df08",
   "execution_count": 4
  },
  {
   "cell_type": "code",
   "outputs": [],
   "source": [],
   "metadata": {
    "collapsed": false
   },
   "id": "69a4b2e4faeee222"
  }
 ],
 "metadata": {
  "kernelspec": {
   "display_name": "Python 3",
   "language": "python",
   "name": "python3"
  },
  "language_info": {
   "codemirror_mode": {
    "name": "ipython",
    "version": 2
   },
   "file_extension": ".py",
   "mimetype": "text/x-python",
   "name": "python",
   "nbconvert_exporter": "python",
   "pygments_lexer": "ipython2",
   "version": "2.7.6"
  }
 },
 "nbformat": 4,
 "nbformat_minor": 5
}
